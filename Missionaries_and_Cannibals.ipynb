{
  "nbformat": 4,
  "nbformat_minor": 0,
  "metadata": {
    "colab": {
      "provenance": []
    },
    "kernelspec": {
      "name": "python3",
      "display_name": "Python 3"
    },
    "language_info": {
      "name": "python"
    }
  },
  "cells": [
    {
      "cell_type": "code",
      "execution_count": null,
      "metadata": {
        "id": "14CDnT_IuvRi"
      },
      "outputs": [],
      "source": [
        "def move1M(state): # Move 1 missionarie\n",
        "    if (state[0] >= 1 and state[2] == 1): \n",
        "        successor = (state[0]-1, state[1],0) \n",
        "        if ((successor[0]>0 and successor[0] < successor[1]) or (successor[0]<3 and 3-successor[0] < (3-successor[1]))): \n",
        "            successor = None \n",
        "            return successor\n",
        "        return successor\n",
        "\n",
        "    elif (state[0] <= 2 and state[2] == 0): \n",
        "        successor = (state[0]+1, state[1],1) \n",
        "        if ((successor[0]>0 and successor[0] < successor[1]) or (successor[0]<3 and 3-successor[0] < (3-successor[1]))): \n",
        "            return successor\n",
        "        return successor"
      ]
    },
    {
      "cell_type": "code",
      "source": [
        "def move2M(state): # Move 2 missionaries\n",
        "    if (state[0] >= 2 and state[2] == 1): \n",
        "        successor = (state[0]-2, state[1],0) \n",
        "        if ((successor[0]>0 and successor[0] < successor[1])  or (successor[0]<3 and 3-successor[0] < (3-successor[1]))): \n",
        "            successor = None \n",
        "            return successor\n",
        "        return successor\n",
        "\n",
        "    elif (state[0] <= 1 and state[2] == 0 ):  \n",
        "        successor = (state[0]+2, state[1],1) \n",
        "        if ((successor[0]>0 and successor[0] < successor[1])  or (successor[0]<3 and 3-successor[0] < (3-successor[1]))): \n",
        "            successor = None \n",
        "            return successor\n",
        "        return successor\n"
      ],
      "metadata": {
        "id": "nSC4vUhWxOij"
      },
      "execution_count": null,
      "outputs": []
    },
    {
      "cell_type": "code",
      "source": [
        "def move1C(state): # Move 1 cannibal\n",
        "    if (state[1] >= 1 and state[2] == 1): \n",
        "        successor = (state[0], state[1]-1,0) \n",
        "        if ((successor[0]>0 and successor[0] < successor[1])  or (successor[0]<3 and 3-successor[0] < (3-successor[1]))): \n",
        "            successor = None \n",
        "            return successor\n",
        "        return successor\n",
        "\n",
        "    elif (state[1] <= 2 and state[2] == 0): \n",
        "        successor = (state[0], state[1]+1,1) \n",
        "        if ((successor[0]>0 and successor[0] < successor[1])  or (successor[0]<3 and 3-successor[0] < (3-successor[1]))): \n",
        "            successor = None \n",
        "            return successor\n",
        "        return successor"
      ],
      "metadata": {
        "id": "dZ7aAKNHxUne"
      },
      "execution_count": null,
      "outputs": []
    },
    {
      "cell_type": "code",
      "source": [
        "def move2C(state): # Move 2 cannibals\n",
        "    if (state[1] >= 2 and state[2] == 1): \n",
        "        successor = (state[0], state[1]-2,0) \n",
        "        if ((successor[0]>0 and successor[0] < successor[1])   or (successor[0]<3 and 3-successor[0] < (3-successor[1]))): \n",
        "            successor = None \n",
        "            return successor\n",
        "        return successor\n",
        "\n",
        "    elif (state[1] <= 1 and state[2] == 0): \n",
        "        successor = (state[0], state[1]+2,1) \n",
        "        if ((successor[0]>0 and successor[0] < successor[1])  or (successor[0]<3 and 3-successor[0] < (3-successor[1]))): \n",
        "            successor = None \n",
        "            return successor\n",
        "        return successor"
      ],
      "metadata": {
        "id": "ZE6pQkOQxiE_"
      },
      "execution_count": null,
      "outputs": []
    },
    {
      "cell_type": "code",
      "source": [
        "def move1M1C(state): # Move 1 missionarie and 1 cannibal\n",
        "    if (state[0] >=1 and state[1] >=1 and state[2] == 1): \n",
        "        successor = (state[0]-1,state[1]-1,0) \n",
        "        if ((successor[0]>0 and successor[0] < successor[1])  or (successor[0]<3 and 3-successor[0] < (3-successor[1]))): \n",
        "            successor = None \n",
        "            return successor\n",
        "        return successor\n",
        "\n",
        "    elif (state[0] <= 2 and state[1] <= 2 and state[2] == 0): \n",
        "        successor = (state[0]+1,state[1]+1,1) \n",
        "        if ((successor[0]>0 and successor[0] < successor[1])  or (successor[0]<3 and 3-successor[0] < (3-successor[1]))): \n",
        "            successor = None \n",
        "            return successor\n",
        "        return successor"
      ],
      "metadata": {
        "id": "7ReiGIFQxlvO"
      },
      "execution_count": null,
      "outputs": []
    },
    {
      "cell_type": "code",
      "source": [
        "def format(parent,explored,solution,move):\n",
        "  if (parent!= None):\n",
        "    for node in explored:\n",
        "      if (node[0] == parent):\n",
        "        if move==0:\n",
        "          a=\"1M\"\n",
        "        if move==1:\n",
        "          a=\"2M\"\n",
        "        if move==2:\n",
        "          a=\"1C\"\n",
        "        if move==3:\n",
        "          a=\"2C\"\n",
        "        if move==4:\n",
        "          a=\"1M1C\"\n",
        "        return format(node[1],explored,str(parent)+\"->\"+a+\"->\"+str(solution),node[2])\n",
        "  return solution"
      ],
      "metadata": {
        "id": "kTPlR49oxpVJ"
      },
      "execution_count": null,
      "outputs": []
    },
    {
      "cell_type": "markdown",
      "source": [
        "DFS Approach"
      ],
      "metadata": {
        "id": "9cQCBCesCyhd"
      }
    },
    {
      "cell_type": "code",
      "source": [
        "def adddfs(successor,frontier,explored):\n",
        "  new=True\n",
        "  for node in frontier:\n",
        "    if node[0]==successor[0]:\n",
        "      new=False\n",
        "  if (new):\n",
        "    for node in explored:\n",
        "      if node[0]==successor[0]:\n",
        "        new=False\n",
        "  if (new):\n",
        "    frontier.insert(0,successor) \n",
        "  return frontier"
      ],
      "metadata": {
        "id": "9DPNVegnx29K"
      },
      "execution_count": null,
      "outputs": []
    },
    {
      "cell_type": "code",
      "source": [
        "def dfs(frontier,explored,goal):\n",
        "    while (frontier): #if frontier has at least one element\n",
        "        node = frontier.pop(0) #extract first node from the frontier list\n",
        "        explored.append(node) #add node to explored list\n",
        "        fun = [move1M(node[0]), move2M(node[0]), move1C(node[0]), move2C(node[0]), move1M1C(node[0])] \n",
        "        cost=[1,1,1,1,1]\n",
        "        for f in range(len(fun)):\n",
        "          if fun[f]!= None:\n",
        "            successor = (fun[f],node[0],f,node[3]+cost[f]) \n",
        "            if (goal==fun[f]): #If I reach the goal state, print solution and end program\n",
        "              print(\"Path:\",format(node[0],explored,successor[0],successor[2])) #Print path\n",
        "              print(\"Total cost:\",successor[3],\"movements.\") #Print cost\n",
        "              return True    \n",
        "            frontier=adddfs(successor,frontier,explored)\n",
        "    return False "
      ],
      "metadata": {
        "id": "x17taP5Sy7ei"
      },
      "execution_count": null,
      "outputs": []
    },
    {
      "cell_type": "code",
      "source": [
        "state =(3,3,1) #initial state\n",
        "goal=(0,0,0) #goal state\n",
        "\n",
        "frontier=[(state,\"None\",\"None\",0)] #State, parent, movement, cost\n",
        "explored=[]\n",
        "\n",
        "print(\"DFS result is: \")\n",
        "dfs(frontier, explored,goal)"
      ],
      "metadata": {
        "id": "ePQv-N9ry9n4",
        "outputId": "8b9bd823-4e81-45f5-b3dd-9a073480eba4",
        "colab": {
          "base_uri": "https://localhost:8080/"
        }
      },
      "execution_count": null,
      "outputs": [
        {
          "output_type": "stream",
          "name": "stdout",
          "text": [
            "DFS result is: \n",
            "Path: (3, 3, 1)->1M1C->(2, 2, 0)->1M->(3, 2, 1)->2C->(3, 0, 0)->1C->(3, 1, 1)->2M->(1, 1, 0)->1M1C->(2, 2, 1)->2M->(0, 2, 0)->1C->(0, 3, 1)->2C->(0, 1, 0)->1C->(0, 2, 1)->2C->(0, 0, 0)\n",
            "Total cost: 11 movements.\n"
          ]
        },
        {
          "output_type": "execute_result",
          "data": {
            "text/plain": [
              "True"
            ]
          },
          "metadata": {},
          "execution_count": 13
        }
      ]
    },
    {
      "cell_type": "markdown",
      "source": [
        "BFS Approach"
      ],
      "metadata": {
        "id": "SXZDRUROBgtR"
      }
    },
    {
      "cell_type": "code",
      "source": [
        "def addbfs(successor, frontier, explored):\n",
        "  new = True\n",
        "  for node in frontier:\n",
        "    if node[0] == successor[0]:\n",
        "      new = False\n",
        "  if (new):\n",
        "    for node in explored:\n",
        "      if node[0] == successor[0]:\n",
        "        new = False\n",
        "  if (new):\n",
        "    frontier.append(successor)\n",
        "  return frontier"
      ],
      "metadata": {
        "id": "A3roQoGIy_0z"
      },
      "execution_count": null,
      "outputs": []
    },
    {
      "cell_type": "code",
      "source": [
        "def bfs(frontier,explored,goal):\n",
        "    while (frontier): \n",
        "        node = frontier.pop(0) \n",
        "        explored.append(node) \n",
        "        \n",
        "        fun = [move1M(node[0]), move2M(node[0]), move1C(node[0]), move2C(node[0]), move1M1C(node[0])] \n",
        "        cost= [1,1,1,1,1]\n",
        "        \n",
        "        for f in range(len(fun)):\n",
        "          if fun[f]!= None:\n",
        "            successor = (fun[f],node[0],f,node[3]+cost[f]) \n",
        "            if (goal==fun[f]): \n",
        "              print(\"Path:\",format(node[0],explored,successor[0],successor[2])) \n",
        "              print(\"Total cost:\",successor[3],\"movements.\") \n",
        "              return True    \n",
        "            frontier=addbfs(successor,frontier,explored)\n",
        "    return False "
      ],
      "metadata": {
        "id": "fQL_s8wFCpV-"
      },
      "execution_count": null,
      "outputs": []
    },
    {
      "cell_type": "code",
      "source": [
        "state =(3,3,1) #initial state\n",
        "goal=(0,0,0) #goal state\n",
        "\n",
        "frontier=[(state,\"None\",\"None\",0)] #State, parent, movement, cost\n",
        "explored=[]\n",
        "\n",
        "print(\"BFS result is: \")\n",
        "bfs(frontier, explored,goal)"
      ],
      "metadata": {
        "colab": {
          "base_uri": "https://localhost:8080/"
        },
        "id": "GVnHLKC7Cri6",
        "outputId": "d304c8aa-b84e-4a90-b171-2f570923419d"
      },
      "execution_count": null,
      "outputs": [
        {
          "output_type": "stream",
          "name": "stdout",
          "text": [
            "BFS result is: \n",
            "Path: (3, 3, 1)->2C->(3, 1, 0)->1C->(3, 2, 1)->2C->(3, 0, 0)->1C->(3, 1, 1)->2M->(1, 1, 0)->1M->(2, 1, 1)->2M->(0, 1, 0)->1M->(1, 1, 1)->1M1C->(0, 0, 0)\n",
            "Total cost: 9 movements.\n"
          ]
        },
        {
          "output_type": "execute_result",
          "data": {
            "text/plain": [
              "True"
            ]
          },
          "metadata": {},
          "execution_count": 18
        }
      ]
    },
    {
      "cell_type": "code",
      "source": [],
      "metadata": {
        "id": "CZp7YByJCuPs"
      },
      "execution_count": null,
      "outputs": []
    }
  ]
}