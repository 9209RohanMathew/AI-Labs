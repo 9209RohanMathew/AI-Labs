{
  "nbformat": 4,
  "nbformat_minor": 0,
  "metadata": {
    "colab": {
      "provenance": []
    },
    "kernelspec": {
      "name": "python3",
      "display_name": "Python 3"
    },
    "language_info": {
      "name": "python"
    }
  },
  "cells": [
    {
      "cell_type": "code",
      "source": [
        "def bfs(start, end, x_capacity, y_capacity):\n",
        "    path = []\n",
        "    front = []\n",
        "    front.append(start)\n",
        "    visited = []\n",
        "    while(not (not front)):\n",
        "        current = front.pop()\n",
        "        x = current[0]\n",
        "        y = current[1]\n",
        "        path.append(current)\n",
        "        if x == end or y == end:\n",
        "            print(\"The solution is:\")\n",
        "            return path\n",
        "            \n",
        "        # rule 1\n",
        "        if current[0] < x_capacity and ([x_capacity, current[1]] not in visited):\n",
        "            front.append([x_capacity, current[1]])\n",
        "            visited.append([x_capacity, current[1]])\n",
        "\n",
        "        # rule 2\n",
        "        if current[1] < y_capacity and ([current[0], y_capacity] not in visited):\n",
        "            front.append([current[0], y_capacity])\n",
        "            visited.append([current[0], y_capacity])\n",
        "\n",
        "        # rule 3\n",
        "        if current[0] > x_capacity and ([0, current[1]] not in visited):\n",
        "            front.append([0, current[1]])\n",
        "            visited.append([0, current[1]])\n",
        "\n",
        "        # rule 4\n",
        "        if current[1] > y_capacity and ([x_capacity, 0] not in visited):\n",
        "            front.append([x_capacity, 0])\n",
        "            visited.append([x_capacity, 0])\n",
        "\n",
        "        # rule 5\n",
        "        #(x, y) -> (min(x + y, x_capacity), max(0, x + y - x_capacity)) if y > 0\n",
        "        if current[1] > 0 and ([min(x + y, x_capacity), max(0, x + y - x_capacity)] not in visited):\n",
        "            front.append([min(x + y, x_capacity), max(0, x + y - x_capacity)])\n",
        "            visited.append([min(x + y, x_capacity), max(0, x + y - x_capacity)])\n",
        "\n",
        "        # rule 6\n",
        "        # (x, y) -> (max(0, x + y - y_capacity), min(x + y, y_capacity)) if x > 0\n",
        "        if current[0] > 0  and ([max(0, x + y - y_capacity), min(x + y, y_capacity)] not in visited):\n",
        "            front.append([max(0, x + y - y_capacity), min(x + y, y_capacity)])\n",
        "            visited.append([max(0, x + y - y_capacity), min(x + y, y_capacity)])\n",
        "\n",
        "    return \"Not found\"\n",
        "\n",
        "def gcd(a, b):\n",
        "    if a == 0:\n",
        "        return b\n",
        "    return gcd(int(b%a), int(a))\n",
        "\n",
        "\n",
        "# print(\"Solution for water jug problem\")\n",
        "x_capacity = int(input(\"Enter Jug 1 capacity:\"))\n",
        "y_capacity = int(input(\"Enter Jug 2 capacity:\"))\n",
        "end = int(input(\"Enter target volume:\"))\n",
        "\n",
        "# start state: x = 0 , y = 0\n",
        "start = [0, 0] \n",
        "#end = 2\n",
        "#x_capacity = 4\n",
        "#y_capacity = 3\n",
        "\n",
        "# condition for getting a solution:\n",
        "# the target volume 'end' should be a multiple of gcd(a,b)\n",
        "\n",
        "if end % gcd(x_capacity,y_capacity) == 0:\n",
        "    final_path = bfs(start, end, x_capacity, y_capacity)\n",
        "    for i in range(0,len(final_path)):\n",
        "        print(final_path[i])\n",
        "else:\n",
        "    print(\"No solution possible for this combination.\")"
      ],
      "metadata": {
        "colab": {
          "base_uri": "https://localhost:8080/"
        },
        "id": "euFo4R0zIkcq",
        "outputId": "fc8e39b1-c84c-4e9f-f2e2-58854cdfc639"
      },
      "execution_count": null,
      "outputs": [
        {
          "output_type": "stream",
          "name": "stdout",
          "text": [
            "Enter Jug 1 capacity:4\n",
            "Enter Jug 2 capacity:3\n",
            "Enter target volume:2\n",
            "The solution is:\n",
            "[0, 0]\n",
            "[0, 3]\n",
            "[3, 0]\n",
            "[3, 3]\n",
            "[4, 2]\n"
          ]
        }
      ]
    },
    {
      "cell_type": "code",
      "source": [],
      "metadata": {
        "id": "gQxu3-pkSgQq"
      },
      "execution_count": null,
      "outputs": []
    },
    {
      "cell_type": "code",
      "source": [],
      "metadata": {
        "id": "yEsboLNxJcVg"
      },
      "execution_count": null,
      "outputs": []
    }
  ]
}